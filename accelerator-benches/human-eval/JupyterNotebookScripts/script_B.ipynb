{
 "cells": [
  {
   "cell_type": "code",
   "execution_count": 1,
   "id": "874bd1f7-ffbc-4a17-9c3d-b9899c53d87a",
   "metadata": {
    "tags": []
   },
   "outputs": [],
   "source": [
    "#Part B of the script\n",
    "\n",
    "#Load the saved dataset, model, and tokenizer.\n",
    "#Generate code solutions using the loaded model and dataset."
   ]
  },
  {
   "cell_type": "code",
   "execution_count": 1,
   "id": "ca3bae72-27a1-42e6-beac-0a22bb457e9b",
   "metadata": {
    "tags": []
   },
   "outputs": [],
   "source": [
    "import torch\n",
    "import time\n",
    "from transformers import AutoModelForCausalLM, AutoTokenizer\n",
    "import dill"
   ]
  },
  {
   "cell_type": "code",
   "execution_count": 2,
   "id": "31899fe8-7536-47e0-a834-17918c02dcc3",
   "metadata": {
    "tags": []
   },
   "outputs": [
    {
     "name": "stdout",
     "output_type": "stream",
     "text": [
      "Loading combined dataset...\n",
      "Loading model and tokenizer...\n",
      "Loading generate_code function...\n"
     ]
    }
   ],
   "source": [
    "# Load the combined dataset\n",
    "print(\"Loading combined dataset...\")\n",
    "combined_dataset = torch.load(\"combined_dataset.pt\")\n",
    "\n",
    "\n",
    "# Load the model and tokenizer\n",
    "print(\"Loading model and tokenizer...\")\n",
    "tokenizer = AutoTokenizer.from_pretrained(\"tokenizer\")\n",
    "model = AutoModelForCausalLM.from_pretrained(\"model\").to(\"cuda\")\n",
    "\n",
    "\n",
    "# Load the generate_code function\n",
    "print(\"Loading generate_code function...\")\n",
    "with open(\"generate_code.pkl\", \"rb\") as f:\n",
    "    generate_code = dill.load(f)"
   ]
  },
  {
   "cell_type": "code",
   "execution_count": 10,
   "id": "cb7677c9-84f0-4a1f-82ed-f7dbf56cba36",
   "metadata": {},
   "outputs": [],
   "source": [
    "def run_model_by_prompts(num_prompts):\n",
    "    print(\"Generating code solutions...\")\n",
    "\n",
    "    prompts = [sample[\"prompt\"] for sample in combined_dataset]\n",
    "    generated_solutions = []\n",
    "\n",
    "    start_time = time.time()\n",
    "\n",
    "    for prompt in prompts[:num_prompts]:\n",
    "        solution = generate_code(prompt, model, tokenizer,\"cuda\")\n",
    "        generated_solutions.append(solution)\n",
    "        # print(f\"Prompt:\\n{prompt}\")\n",
    "        # print(f\"Generated Solution:\\n{solution}\\n\")\n",
    "\n",
    "    current_time = time.time() - start_time\n",
    "    num_solutions = len(generated_solutions)\n",
    "    print(f\"Completed processing. Generated solutions for {num_solutions} prompts in {current_time} seconds.\")\n"
   ]
  },
  {
   "cell_type": "code",
   "execution_count": 19,
   "id": "4a03bf87-5839-4762-99e2-4a19545b7cba",
   "metadata": {},
   "outputs": [],
   "source": [
    "def run_model_by_time(duration_in_seconds):\n",
    "    print(f\"Generating code solutions for {duration_in_seconds} seconds...\")\n",
    "\n",
    "    prompts = [sample[\"prompt\"] for sample in combined_dataset]\n",
    "    generated_solutions = []\n",
    "\n",
    "    start_time = time.time()\n",
    "\n",
    "    for prompt in prompts:\n",
    "        if time.time() - start_time > duration_in_seconds:\n",
    "            break\n",
    "        solution = generate_code(prompt, model, tokenizer, \"cuda\")\n",
    "        generated_solutions.append(solution)\n",
    "        # print(f\"Prompt:\\n{prompt}\")\n",
    "        # print(f\"Generated Solution:\\n{solution}\\n\")\n",
    "\n",
    "    elapsed_time = time.time() - start_time\n",
    "    print(f\"Completed processing. Generated solutions for {len(generated_solutions)} prompts in {elapsed_time:.2f} seconds.\")"
   ]
  },
  {
   "cell_type": "code",
   "execution_count": 17,
   "id": "66558e87-c4c9-4581-adc5-0328a4463c90",
   "metadata": {
    "tags": []
   },
   "outputs": [
    {
     "name": "stdout",
     "output_type": "stream",
     "text": [
      "Would you like to provide input based on:\n",
      "1. Number of prompts\n",
      "2. Duration (in seconds)\n"
     ]
    },
    {
     "name": "stdin",
     "output_type": "stream",
     "text": [
      "Enter your choice (1 or 2):  2\n",
      "Enter the duration in seconds:  200\n"
     ]
    },
    {
     "name": "stdout",
     "output_type": "stream",
     "text": [
      "Generating code solutions for 200 seconds...\n"
     ]
    },
    {
     "name": "stderr",
     "output_type": "stream",
     "text": [
      "Setting `pad_token_id` to `eos_token_id`:None for open-end generation.\n",
      "Setting `pad_token_id` to `eos_token_id`:None for open-end generation.\n",
      "Setting `pad_token_id` to `eos_token_id`:None for open-end generation.\n",
      "Setting `pad_token_id` to `eos_token_id`:None for open-end generation.\n",
      "Setting `pad_token_id` to `eos_token_id`:None for open-end generation.\n",
      "Setting `pad_token_id` to `eos_token_id`:None for open-end generation.\n",
      "Setting `pad_token_id` to `eos_token_id`:None for open-end generation.\n",
      "Setting `pad_token_id` to `eos_token_id`:None for open-end generation.\n",
      "Setting `pad_token_id` to `eos_token_id`:None for open-end generation.\n",
      "Setting `pad_token_id` to `eos_token_id`:None for open-end generation.\n",
      "Setting `pad_token_id` to `eos_token_id`:None for open-end generation.\n",
      "Setting `pad_token_id` to `eos_token_id`:None for open-end generation.\n",
      "Setting `pad_token_id` to `eos_token_id`:None for open-end generation.\n",
      "Setting `pad_token_id` to `eos_token_id`:None for open-end generation.\n",
      "Setting `pad_token_id` to `eos_token_id`:None for open-end generation.\n",
      "Setting `pad_token_id` to `eos_token_id`:None for open-end generation.\n",
      "Setting `pad_token_id` to `eos_token_id`:None for open-end generation.\n",
      "Setting `pad_token_id` to `eos_token_id`:None for open-end generation.\n",
      "Setting `pad_token_id` to `eos_token_id`:None for open-end generation.\n",
      "Setting `pad_token_id` to `eos_token_id`:None for open-end generation.\n",
      "Setting `pad_token_id` to `eos_token_id`:None for open-end generation.\n",
      "Setting `pad_token_id` to `eos_token_id`:None for open-end generation.\n",
      "Setting `pad_token_id` to `eos_token_id`:None for open-end generation.\n",
      "Setting `pad_token_id` to `eos_token_id`:None for open-end generation.\n",
      "Setting `pad_token_id` to `eos_token_id`:None for open-end generation.\n",
      "Setting `pad_token_id` to `eos_token_id`:None for open-end generation.\n",
      "Setting `pad_token_id` to `eos_token_id`:None for open-end generation.\n",
      "Setting `pad_token_id` to `eos_token_id`:None for open-end generation.\n",
      "Setting `pad_token_id` to `eos_token_id`:None for open-end generation.\n",
      "Setting `pad_token_id` to `eos_token_id`:None for open-end generation.\n",
      "Setting `pad_token_id` to `eos_token_id`:None for open-end generation.\n",
      "Setting `pad_token_id` to `eos_token_id`:None for open-end generation.\n",
      "Setting `pad_token_id` to `eos_token_id`:None for open-end generation.\n",
      "Setting `pad_token_id` to `eos_token_id`:None for open-end generation.\n",
      "Setting `pad_token_id` to `eos_token_id`:None for open-end generation.\n",
      "Setting `pad_token_id` to `eos_token_id`:None for open-end generation.\n",
      "Setting `pad_token_id` to `eos_token_id`:None for open-end generation.\n",
      "Setting `pad_token_id` to `eos_token_id`:None for open-end generation.\n",
      "Setting `pad_token_id` to `eos_token_id`:None for open-end generation.\n",
      "Setting `pad_token_id` to `eos_token_id`:None for open-end generation.\n",
      "Setting `pad_token_id` to `eos_token_id`:None for open-end generation.\n",
      "Setting `pad_token_id` to `eos_token_id`:None for open-end generation.\n",
      "Setting `pad_token_id` to `eos_token_id`:None for open-end generation.\n",
      "Setting `pad_token_id` to `eos_token_id`:None for open-end generation.\n",
      "Setting `pad_token_id` to `eos_token_id`:None for open-end generation.\n",
      "Setting `pad_token_id` to `eos_token_id`:None for open-end generation.\n",
      "Setting `pad_token_id` to `eos_token_id`:None for open-end generation.\n",
      "Setting `pad_token_id` to `eos_token_id`:None for open-end generation.\n",
      "Setting `pad_token_id` to `eos_token_id`:None for open-end generation.\n",
      "Setting `pad_token_id` to `eos_token_id`:None for open-end generation.\n",
      "Setting `pad_token_id` to `eos_token_id`:None for open-end generation.\n",
      "Setting `pad_token_id` to `eos_token_id`:None for open-end generation.\n",
      "Setting `pad_token_id` to `eos_token_id`:None for open-end generation.\n",
      "Setting `pad_token_id` to `eos_token_id`:None for open-end generation.\n",
      "Setting `pad_token_id` to `eos_token_id`:None for open-end generation.\n",
      "Setting `pad_token_id` to `eos_token_id`:None for open-end generation.\n",
      "Setting `pad_token_id` to `eos_token_id`:None for open-end generation.\n",
      "Setting `pad_token_id` to `eos_token_id`:None for open-end generation.\n",
      "Setting `pad_token_id` to `eos_token_id`:None for open-end generation.\n",
      "Setting `pad_token_id` to `eos_token_id`:None for open-end generation.\n",
      "Setting `pad_token_id` to `eos_token_id`:None for open-end generation.\n",
      "Setting `pad_token_id` to `eos_token_id`:None for open-end generation.\n",
      "Setting `pad_token_id` to `eos_token_id`:None for open-end generation.\n",
      "Setting `pad_token_id` to `eos_token_id`:None for open-end generation.\n"
     ]
    },
    {
     "name": "stdout",
     "output_type": "stream",
     "text": [
      "Completed processing. Generated solutions for 64 prompts in 200.23 seconds.\n"
     ]
    }
   ],
   "source": [
    "import os\n",
    "\n",
    "def main():\n",
    "    \"\"\"\n",
    "    Main function to decide whether to run the model based on prompts or time.\n",
    "    \"\"\"\n",
    "    print(\"Would you like to provide input based on:\")\n",
    "    print(\"1. Number of prompts\")\n",
    "    print(\"2. Duration (in seconds)\")\n",
    "    choice = input(\"Enter your choice (1 or 2): \").strip()\n",
    "\n",
    "    if choice == \"1\":\n",
    "        num_prompts = int(input(\"Enter the number of prompts to process: \").strip())\n",
    "        run_model_by_prompts(num_prompts)\n",
    "    elif choice == \"2\":\n",
    "        duration_in_seconds = int(input(\"Enter the duration in seconds: \").strip())\n",
    "        run_model_by_time(duration_in_seconds)\n",
    "    else:\n",
    "        print(\"Invalid choice. Please enter 1 or 2.\")\n",
    "\n",
    "if __name__ == \"__main__\":\n",
    "    main()"
   ]
  },
  {
   "cell_type": "code",
   "execution_count": null,
   "id": "06dbda38-1bc0-4d90-a6b8-5210ba60b872",
   "metadata": {},
   "outputs": [],
   "source": []
  },
  {
   "cell_type": "code",
   "execution_count": null,
   "id": "a65d36a2-7f40-4c8b-a7fe-c5ebcb867c61",
   "metadata": {},
   "outputs": [],
   "source": []
  }
 ],
 "metadata": {
  "kernelspec": {
   "display_name": "Python 3.9",
   "language": "python",
   "name": "python3"
  },
  "language_info": {
   "codemirror_mode": {
    "name": "ipython",
    "version": 3
   },
   "file_extension": ".py",
   "mimetype": "text/x-python",
   "name": "python",
   "nbconvert_exporter": "python",
   "pygments_lexer": "ipython3",
   "version": "3.9.18"
  }
 },
 "nbformat": 4,
 "nbformat_minor": 5
}
