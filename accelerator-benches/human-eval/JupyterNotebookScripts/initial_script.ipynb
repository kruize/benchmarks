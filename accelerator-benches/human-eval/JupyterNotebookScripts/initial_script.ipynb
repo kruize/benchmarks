{
 "cells": [
  {
   "cell_type": "code",
   "execution_count": 35,
   "id": "34f95386-ea8d-48c9-96cd-a58f0018733c",
   "metadata": {
    "tags": []
   },
   "outputs": [
    {
     "name": "stderr",
     "output_type": "stream",
     "text": [
      "huggingface/tokenizers: The current process just got forked, after parallelism has already been used. Disabling parallelism to avoid deadlocks...\n",
      "To disable this warning, you can either:\n",
      "\t- Avoid using `tokenizers` before the fork if possible\n",
      "\t- Explicitly set the environment variable TOKENIZERS_PARALLELISM=(true | false)\n"
     ]
    },
    {
     "name": "stdout",
     "output_type": "stream",
     "text": [
      "Requirement already satisfied: transformers in /opt/app-root/lib/python3.9/site-packages (4.41.2)\n",
      "Requirement already satisfied: datasets in /opt/app-root/lib/python3.9/site-packages (2.19.2)\n",
      "Requirement already satisfied: numpy>=1.17 in /opt/app-root/lib/python3.9/site-packages (from transformers) (1.26.4)\n",
      "Requirement already satisfied: packaging>=20.0 in /opt/app-root/lib/python3.9/site-packages (from transformers) (24.0)\n",
      "Requirement already satisfied: tokenizers<0.20,>=0.19 in /opt/app-root/lib/python3.9/site-packages (from transformers) (0.19.1)\n",
      "Requirement already satisfied: pyyaml>=5.1 in /opt/app-root/lib/python3.9/site-packages (from transformers) (6.0.1)\n",
      "Requirement already satisfied: filelock in /opt/app-root/lib/python3.9/site-packages (from transformers) (3.13.4)\n",
      "Requirement already satisfied: huggingface-hub<1.0,>=0.23.0 in /opt/app-root/lib/python3.9/site-packages (from transformers) (0.23.3)\n",
      "Requirement already satisfied: regex!=2019.12.17 in /opt/app-root/lib/python3.9/site-packages (from transformers) (2024.5.15)\n",
      "Requirement already satisfied: safetensors>=0.4.1 in /opt/app-root/lib/python3.9/site-packages (from transformers) (0.4.3)\n",
      "Requirement already satisfied: tqdm>=4.27 in /opt/app-root/lib/python3.9/site-packages (from transformers) (4.66.2)\n",
      "Requirement already satisfied: requests in /opt/app-root/lib/python3.9/site-packages (from transformers) (2.32.3)\n",
      "Requirement already satisfied: pyarrow>=12.0.0 in /opt/app-root/lib/python3.9/site-packages (from datasets) (16.0.0)\n",
      "Requirement already satisfied: pandas in /opt/app-root/lib/python3.9/site-packages (from datasets) (2.2.2)\n",
      "Requirement already satisfied: multiprocess in /opt/app-root/lib/python3.9/site-packages (from datasets) (0.70.16)\n",
      "Requirement already satisfied: aiohttp in /opt/app-root/lib/python3.9/site-packages (from datasets) (3.9.5)\n",
      "Requirement already satisfied: xxhash in /opt/app-root/lib/python3.9/site-packages (from datasets) (3.4.1)\n",
      "Requirement already satisfied: fsspec[http]<=2024.3.1,>=2023.1.0 in /opt/app-root/lib/python3.9/site-packages (from datasets) (2024.3.1)\n",
      "Requirement already satisfied: dill<0.3.9,>=0.3.0 in /opt/app-root/lib/python3.9/site-packages (from datasets) (0.3.8)\n",
      "Requirement already satisfied: pyarrow-hotfix in /opt/app-root/lib/python3.9/site-packages (from datasets) (0.6)\n",
      "Requirement already satisfied: aiosignal>=1.1.2 in /opt/app-root/lib/python3.9/site-packages (from aiohttp->datasets) (1.3.1)\n",
      "Requirement already satisfied: attrs>=17.3.0 in /opt/app-root/lib/python3.9/site-packages (from aiohttp->datasets) (23.2.0)\n",
      "Requirement already satisfied: multidict<7.0,>=4.5 in /opt/app-root/lib/python3.9/site-packages (from aiohttp->datasets) (6.0.5)\n",
      "Requirement already satisfied: yarl<2.0,>=1.0 in /opt/app-root/lib/python3.9/site-packages (from aiohttp->datasets) (1.9.4)\n",
      "Requirement already satisfied: frozenlist>=1.1.1 in /opt/app-root/lib/python3.9/site-packages (from aiohttp->datasets) (1.4.1)\n",
      "Requirement already satisfied: async-timeout<5.0,>=4.0 in /opt/app-root/lib/python3.9/site-packages (from aiohttp->datasets) (4.0.3)\n",
      "Requirement already satisfied: typing-extensions>=3.7.4.3 in /opt/app-root/lib/python3.9/site-packages (from huggingface-hub<1.0,>=0.23.0->transformers) (4.11.0)\n",
      "Requirement already satisfied: certifi>=2017.4.17 in /opt/app-root/lib/python3.9/site-packages (from requests->transformers) (2024.2.2)\n",
      "Requirement already satisfied: urllib3<3,>=1.21.1 in /opt/app-root/lib/python3.9/site-packages (from requests->transformers) (1.26.18)\n",
      "Requirement already satisfied: charset-normalizer<4,>=2 in /opt/app-root/lib/python3.9/site-packages (from requests->transformers) (3.3.2)\n",
      "Requirement already satisfied: idna<4,>=2.5 in /opt/app-root/lib/python3.9/site-packages (from requests->transformers) (3.7)\n",
      "Requirement already satisfied: pytz>=2020.1 in /opt/app-root/lib/python3.9/site-packages (from pandas->datasets) (2024.1)\n",
      "Requirement already satisfied: tzdata>=2022.7 in /opt/app-root/lib/python3.9/site-packages (from pandas->datasets) (2024.1)\n",
      "Requirement already satisfied: python-dateutil>=2.8.2 in /opt/app-root/lib/python3.9/site-packages (from pandas->datasets) (2.9.0.post0)\n",
      "Requirement already satisfied: six>=1.5 in /opt/app-root/lib/python3.9/site-packages (from python-dateutil>=2.8.2->pandas->datasets) (1.16.0)\n",
      "\n",
      "\u001b[1m[\u001b[0m\u001b[34;49mnotice\u001b[0m\u001b[1;39;49m]\u001b[0m\u001b[39;49m A new release of pip available: \u001b[0m\u001b[31;49m22.2.2\u001b[0m\u001b[39;49m -> \u001b[0m\u001b[32;49m24.0\u001b[0m\n",
      "\u001b[1m[\u001b[0m\u001b[34;49mnotice\u001b[0m\u001b[1;39;49m]\u001b[0m\u001b[39;49m To update, run: \u001b[0m\u001b[32;49mpip install --upgrade pip\u001b[0m\n",
      "Note: you may need to restart the kernel to use updated packages.\n"
     ]
    }
   ],
   "source": [
    "pip install transformers datasets"
   ]
  },
  {
   "cell_type": "code",
   "execution_count": 34,
   "id": "49b2c1e6-8eb6-404b-b44e-27a40d5ba246",
   "metadata": {
    "tags": []
   },
   "outputs": [
    {
     "name": "stdout",
     "output_type": "stream",
     "text": [
      "CUDA is available. GPU: Tesla T4\n"
     ]
    }
   ],
   "source": [
    "import torch\n",
    "if torch.cuda.is_available():\n",
    "    print(\"CUDA is available. GPU:\", torch.cuda.get_device_name(0))\n",
    "else:\n",
    "    print(\"CUDA is not available.\")"
   ]
  },
  {
   "cell_type": "code",
   "execution_count": 35,
   "id": "b331ad32-dea5-4174-bb4a-cef5bcd44c9d",
   "metadata": {
    "tags": []
   },
   "outputs": [
    {
     "name": "stdout",
     "output_type": "stream",
     "text": [
      "Using device: cuda\n"
     ]
    }
   ],
   "source": [
    "device = torch.device('cuda' if torch.cuda.is_available() else 'cpu')\n",
    "print(f\"Using device: {device}\")"
   ]
  },
  {
   "cell_type": "code",
   "execution_count": 45,
   "id": "24a7985b-35d5-4740-9671-a802540cfc87",
   "metadata": {
    "tags": []
   },
   "outputs": [],
   "source": [
    "import os\n",
    "import time\n",
    "from git import Repo\n",
    "from transformers import AutoModelForCausalLM, AutoTokenizer\n",
    "from datasets import load_dataset, concatenate_datasets"
   ]
  },
  {
   "cell_type": "code",
   "execution_count": 39,
   "id": "402c79ad-b119-41b7-89ff-777ed687021f",
   "metadata": {
    "tags": []
   },
   "outputs": [
    {
     "name": "stdout",
     "output_type": "stream",
     "text": [
      "Loading the HumanEval dataset...\n",
      "Loading the HumanEval-X datasets...\n",
      "Combining dataset...\n"
     ]
    }
   ],
   "source": [
    "# Step 3: Load the HumanEval dataset\n",
    "# print(\"Loading the HumanEval dataset...\")\n",
    "# dataset = load_dataset(\"openai_humaneval\")\n",
    "\n",
    "# Load the HumanEval-X dataset for all languages\n",
    "print(\"Loading the HumanEval-X datasets...\")\n",
    "humaneval_x_dataset_py = load_dataset(\"THUDM/humaneval-x\", \"python\")\n",
    "humaneval_x_dataset_cpp = load_dataset(\"THUDM/humaneval-x\", \"cpp\")\n",
    "humaneval_x_dataset_go = load_dataset(\"THUDM/humaneval-x\", \"go\")\n",
    "humaneval_x_dataset_java = load_dataset(\"THUDM/humaneval-x\", \"java\")\n",
    "humaneval_x_dataset_js = load_dataset(\"THUDM/humaneval-x\", \"js\")\n",
    "# humaneval_x_dataset_rust = load_dataset(\"THUDM/humaneval-x\", \"rust\")\n",
    "\n",
    "# Combine the datasets\n",
    "print(\"Combining dataset...\")\n",
    "combined_dataset = concatenate_datasets([  humaneval_x_dataset_py[\"test\"], humaneval_x_dataset_cpp[\"test\"],\n",
    "                                         humaneval_x_dataset_go[\"test\"],humaneval_x_dataset_java[\"test\"] ,\n",
    "                                         humaneval_x_dataset_js[\"test\"]])\n"
   ]
  },
  {
   "cell_type": "code",
   "execution_count": 40,
   "id": "9e44b552-9e2a-4458-be07-e88612da5e11",
   "metadata": {
    "tags": []
   },
   "outputs": [
    {
     "name": "stdout",
     "output_type": "stream",
     "text": [
      "DatasetDict({\n",
      "    test: Dataset({\n",
      "        features: ['task_id', 'prompt', 'declaration', 'canonical_solution', 'test', 'example_test'],\n",
      "        num_rows: 164\n",
      "    })\n",
      "})\n",
      "Dataset({\n",
      "    features: ['task_id', 'prompt', 'declaration', 'canonical_solution', 'test', 'example_test'],\n",
      "    num_rows: 820\n",
      "})\n"
     ]
    }
   ],
   "source": [
    "print(humaneval_x_dataset_py)\n",
    "print(combined_dataset)"
   ]
  },
  {
   "cell_type": "code",
   "execution_count": 41,
   "id": "c2878130-e859-45d1-8941-19fbbfcb9932",
   "metadata": {
    "tags": []
   },
   "outputs": [],
   "source": [
    "model_name = \"Salesforce/codegen-350M-mono\"\n",
    "\n",
    "tokenizer = AutoTokenizer.from_pretrained(model_name)\n",
    "model = AutoModelForCausalLM.from_pretrained(model_name).to(device)\n"
   ]
  },
  {
   "cell_type": "code",
   "execution_count": 42,
   "id": "2cd8fc6f-e813-47cb-a79a-1f1115b53b11",
   "metadata": {
    "tags": []
   },
   "outputs": [],
   "source": [
    "import re\n",
    "\n",
    "def generate_code(prompt, model, tokenizer, device, max_new_tokens=200):\n",
    "    inputs = tokenizer(prompt, return_tensors=\"pt\").to(device)\n",
    "    outputs = model.generate(**inputs, max_new_tokens=max_new_tokens, num_return_sequences=1)\n",
    "    generated_code = tokenizer.decode(outputs[0], skip_special_tokens=True)\n",
    "    \n",
    "    # Post-process to keep only the main function and ensure it ends properly\n",
    "    if \"def \" in generated_code:\n",
    "        # Extract the main function including everything after it\n",
    "        main_function = generated_code.split(\"def \", 1)[1]\n",
    "        main_function = \"def \" + main_function  # Re-add the def keyword\n",
    "        \n",
    "        # Detect end of function by finding the next function or end of indentation\n",
    "        lines = main_function.split('\\n')\n",
    "        function_lines = []\n",
    "        inside_function = False\n",
    "        indentation_level = None\n",
    "        \n",
    "        for line in lines:\n",
    "            stripped_line = line.strip()\n",
    "            if stripped_line.startswith(\"def \") and inside_function:\n",
    "                break  # New function starts, stop collecting lines\n",
    "            if not inside_function:\n",
    "                if stripped_line.startswith(\"def \"):\n",
    "                    inside_function = True\n",
    "                    indentation_level = len(line) - len(line.lstrip())\n",
    "            if inside_function:\n",
    "                if stripped_line == \"\" or line.startswith(\" \" * indentation_level):\n",
    "                    function_lines.append(line)\n",
    "                else:\n",
    "                    break  # End of the function when the indentation changes\n",
    "\n",
    "        complete_function = \"\\n\".join(function_lines)\n",
    "        return complete_function\n",
    "    return generated_code\n",
    "\n",
    "\n"
   ]
  },
  {
   "cell_type": "code",
   "execution_count": 49,
   "id": "c5db8eb7-35ce-4ec8-b794-e5cd8f84396e",
   "metadata": {
    "tags": []
   },
   "outputs": [
    {
     "name": "stdout",
     "output_type": "stream",
     "text": [
      "Enter the duration to run the script (in seconds):  4000\n"
     ]
    }
   ],
   "source": [
    "run_duration = int(input(\"Enter the duration to run the script (in seconds): \"))"
   ]
  },
  {
   "cell_type": "code",
   "execution_count": null,
   "id": "d19ab355-a078-4293-92a1-d80569c989be",
   "metadata": {
    "tags": []
   },
   "outputs": [
    {
     "name": "stderr",
     "output_type": "stream",
     "text": [
      "Setting `pad_token_id` to `eos_token_id`:50256 for open-end generation.\n"
     ]
    },
    {
     "name": "stdout",
     "output_type": "stream",
     "text": [
      "Generating code solutions...\n"
     ]
    },
    {
     "name": "stderr",
     "output_type": "stream",
     "text": [
      "Setting `pad_token_id` to `eos_token_id`:50256 for open-end generation.\n"
     ]
    },
    {
     "name": "stdout",
     "output_type": "stream",
     "text": [
      "Prompt:\n",
      "from typing import List\n",
      "\n",
      "\n",
      "def has_close_elements(numbers: List[float], threshold: float) -> bool:\n",
      "    \"\"\" Check if in given list of numbers, are any two numbers closer to each other than\n",
      "    given threshold.\n",
      "    >>> has_close_elements([1.0, 2.0, 3.0], 0.5)\n",
      "    False\n",
      "    >>> has_close_elements([1.0, 2.8, 3.0, 4.0, 5.0, 2.0], 0.3)\n",
      "    True\n",
      "    \"\"\"\n",
      "\n",
      "Generated Solution:\n",
      "def has_close_elements(numbers: List[float], threshold: float) -> bool:\n",
      "    \"\"\" Check if in given list of numbers, are any two numbers closer to each other than\n",
      "    given threshold.\n",
      "    >>> has_close_elements([1.0, 2.0, 3.0], 0.5)\n",
      "    False\n",
      "    >>> has_close_elements([1.0, 2.8, 3.0, 4.0, 5.0, 2.0], 0.3)\n",
      "    True\n",
      "    \"\"\"\n",
      "    for i in range(len(numbers) - 1):\n",
      "        for j in range(i + 1, len(numbers)):\n",
      "            if abs(numbers[i] - numbers[j]) < threshold:\n",
      "                return True\n",
      "    return False\n",
      "\n",
      "\n",
      "\n"
     ]
    },
    {
     "name": "stderr",
     "output_type": "stream",
     "text": [
      "Setting `pad_token_id` to `eos_token_id`:50256 for open-end generation.\n"
     ]
    },
    {
     "name": "stdout",
     "output_type": "stream",
     "text": [
      "Prompt:\n",
      "from typing import List\n",
      "\n",
      "\n",
      "def separate_paren_groups(paren_string: str) -> List[str]:\n",
      "    \"\"\" Input to this function is a string containing multiple groups of nested parentheses. Your goal is to\n",
      "    separate those group into separate strings and return the list of those.\n",
      "    Separate groups are balanced (each open brace is properly closed) and not nested within each other\n",
      "    Ignore any spaces in the input string.\n",
      "    >>> separate_paren_groups('( ) (( )) (( )( ))')\n",
      "    ['()', '(())', '(()())']\n",
      "    \"\"\"\n",
      "\n",
      "Generated Solution:\n",
      "def separate_paren_groups(paren_string: str) -> List[str]:\n",
      "    \"\"\" Input to this function is a string containing multiple groups of nested parentheses. Your goal is to\n",
      "    separate those group into separate strings and return the list of those.\n",
      "    Separate groups are balanced (each open brace is properly closed) and not nested within each other\n",
      "    Ignore any spaces in the input string.\n",
      "    >>> separate_paren_groups('( ) (( )) (( )( ))')\n",
      "    ['()', '(())', '(()())']\n",
      "    \"\"\"\n",
      "    paren_groups = []\n",
      "    for i in range(len(paren_string)):\n",
      "        if paren_string[i] == '(':\n",
      "            paren_groups.append(paren_string[i:])\n",
      "        elif paren_string[i] == ')':\n",
      "            if len(paren_groups) > 0:\n",
      "                paren_groups.pop()\n",
      "            else:\n",
      "                return []\n",
      "    return paren_groups\n",
      "\n",
      "\n",
      "\n"
     ]
    },
    {
     "name": "stderr",
     "output_type": "stream",
     "text": [
      "Setting `pad_token_id` to `eos_token_id`:50256 for open-end generation.\n"
     ]
    },
    {
     "name": "stdout",
     "output_type": "stream",
     "text": [
      "Prompt:\n",
      "\n",
      "\n",
      "def truncate_number(number: float) -> float:\n",
      "    \"\"\" Given a positive floating point number, it can be decomposed into\n",
      "    and integer part (largest integer smaller than given number) and decimals\n",
      "    (leftover part always smaller than 1).\n",
      "\n",
      "    Return the decimal part of the number.\n",
      "    >>> truncate_number(3.5)\n",
      "    0.5\n",
      "    \"\"\"\n",
      "\n",
      "Generated Solution:\n",
      "def truncate_number(number: float) -> float:\n",
      "    \"\"\" Given a positive floating point number, it can be decomposed into\n",
      "    and integer part (largest integer smaller than given number) and decimals\n",
      "    (leftover part always smaller than 1).\n",
      "\n",
      "    Return the decimal part of the number.\n",
      "    >>> truncate_number(3.5)\n",
      "    0.5\n",
      "    \"\"\"\n",
      "    return round(number, -1)\n",
      "\n",
      "\n",
      "\n"
     ]
    },
    {
     "name": "stderr",
     "output_type": "stream",
     "text": [
      "Setting `pad_token_id` to `eos_token_id`:50256 for open-end generation.\n"
     ]
    },
    {
     "name": "stdout",
     "output_type": "stream",
     "text": [
      "Prompt:\n",
      "from typing import List\n",
      "\n",
      "\n",
      "def below_zero(operations: List[int]) -> bool:\n",
      "    \"\"\" You're given a list of deposit and withdrawal operations on a bank account that starts with\n",
      "    zero balance. Your task is to detect if at any point the balance of account fallls below zero, and\n",
      "    at that point function should return True. Otherwise it should return False.\n",
      "    >>> below_zero([1, 2, 3])\n",
      "    False\n",
      "    >>> below_zero([1, 2, -4, 5])\n",
      "    True\n",
      "    \"\"\"\n",
      "\n",
      "Generated Solution:\n",
      "def below_zero(operations: List[int]) -> bool:\n",
      "    \"\"\" You're given a list of deposit and withdrawal operations on a bank account that starts with\n",
      "    zero balance. Your task is to detect if at any point the balance of account fallls below zero, and\n",
      "    at that point function should return True. Otherwise it should return False.\n",
      "    >>> below_zero([1, 2, 3])\n",
      "    False\n",
      "    >>> below_zero([1, 2, -4, 5])\n",
      "    True\n",
      "    \"\"\"\n",
      "    if operations[0] == 0:\n",
      "        return False\n",
      "    else:\n",
      "        return True\n",
      "\n",
      "\n",
      "\n"
     ]
    },
    {
     "name": "stderr",
     "output_type": "stream",
     "text": [
      "Setting `pad_token_id` to `eos_token_id`:50256 for open-end generation.\n"
     ]
    },
    {
     "name": "stdout",
     "output_type": "stream",
     "text": [
      "Prompt:\n",
      "from typing import List\n",
      "\n",
      "\n",
      "def mean_absolute_deviation(numbers: List[float]) -> float:\n",
      "    \"\"\" For a given list of input numbers, calculate Mean Absolute Deviation\n",
      "    around the mean of this dataset.\n",
      "    Mean Absolute Deviation is the average absolute difference between each\n",
      "    element and a centerpoint (mean in this case):\n",
      "    MAD = average | x - x_mean |\n",
      "    >>> mean_absolute_deviation([1.0, 2.0, 3.0, 4.0])\n",
      "    1.0\n",
      "    \"\"\"\n",
      "\n",
      "Generated Solution:\n",
      "def mean_absolute_deviation(numbers: List[float]) -> float:\n",
      "    \"\"\" For a given list of input numbers, calculate Mean Absolute Deviation\n",
      "    around the mean of this dataset.\n",
      "    Mean Absolute Deviation is the average absolute difference between each\n",
      "    element and a centerpoint (mean in this case):\n",
      "    MAD = average | x - x_mean |\n",
      "    >>> mean_absolute_deviation([1.0, 2.0, 3.0, 4.0])\n",
      "    1.0\n",
      "    \"\"\"\n",
      "    mean = sum(numbers) / len(numbers)\n",
      "    return (sum([abs(x - mean) for x in numbers]) / len(numbers)) ** 0.5\n",
      "\n",
      "\n",
      "\n"
     ]
    },
    {
     "name": "stderr",
     "output_type": "stream",
     "text": [
      "Setting `pad_token_id` to `eos_token_id`:50256 for open-end generation.\n"
     ]
    },
    {
     "name": "stdout",
     "output_type": "stream",
     "text": [
      "Prompt:\n",
      "from typing import List\n",
      "\n",
      "\n",
      "def intersperse(numbers: List[int], delimeter: int) -> List[int]:\n",
      "    \"\"\" Insert a number 'delimeter' between every two consecutive elements of input list `numbers'\n",
      "    >>> intersperse([], 4)\n",
      "    []\n",
      "    >>> intersperse([1, 2, 3], 4)\n",
      "    [1, 4, 2, 4, 3]\n",
      "    \"\"\"\n",
      "\n",
      "Generated Solution:\n",
      "def intersperse(numbers: List[int], delimeter: int) -> List[int]:\n",
      "    \"\"\" Insert a number 'delimeter' between every two consecutive elements of input list `numbers'\n",
      "    >>> intersperse([], 4)\n",
      "    []\n",
      "    >>> intersperse([1, 2, 3], 4)\n",
      "    [1, 4, 2, 4, 3]\n",
      "    \"\"\"\n",
      "    return [n + delimeter for n in numbers]\n",
      "\n",
      "\n",
      "\n"
     ]
    },
    {
     "name": "stderr",
     "output_type": "stream",
     "text": [
      "Setting `pad_token_id` to `eos_token_id`:50256 for open-end generation.\n"
     ]
    },
    {
     "name": "stdout",
     "output_type": "stream",
     "text": [
      "Prompt:\n",
      "from typing import List\n",
      "\n",
      "\n",
      "def parse_nested_parens(paren_string: str) -> List[int]:\n",
      "    \"\"\" Input to this function is a string represented multiple groups for nested parentheses separated by spaces.\n",
      "    For each of the group, output the deepest level of nesting of parentheses.\n",
      "    E.g. (()()) has maximum two levels of nesting while ((())) has three.\n",
      "\n",
      "    >>> parse_nested_parens('(()()) ((())) () ((())()())')\n",
      "    [2, 3, 1, 3]\n",
      "    \"\"\"\n",
      "\n",
      "Generated Solution:\n",
      "def parse_nested_parens(paren_string: str) -> List[int]:\n",
      "    \"\"\" Input to this function is a string represented multiple groups for nested parentheses separated by spaces.\n",
      "    For each of the group, output the deepest level of nesting of parentheses.\n",
      "    E.g. (()()) has maximum two levels of nesting while ((())) has three.\n",
      "\n",
      "    >>> parse_nested_parens('(()()) ((())) () ((())()())')\n",
      "    [2, 3, 1, 3]\n",
      "    \"\"\"\n",
      "    if paren_string == '':\n",
      "        return []\n",
      "    if paren_string[0] == '(':\n",
      "        return parse_nested_parens(paren_string[1:]) + [int(paren_string[0])]\n",
      "    else:\n",
      "        return [int(paren_string[0])] + parse_nested_parens(paren_string[1:])\n",
      "\n",
      "\n",
      "\n"
     ]
    },
    {
     "name": "stderr",
     "output_type": "stream",
     "text": [
      "Setting `pad_token_id` to `eos_token_id`:50256 for open-end generation.\n"
     ]
    },
    {
     "name": "stdout",
     "output_type": "stream",
     "text": [
      "Prompt:\n",
      "from typing import List\n",
      "\n",
      "\n",
      "def filter_by_substring(strings: List[str], substring: str) -> List[str]:\n",
      "    \"\"\" Filter an input list of strings only for ones that contain given substring\n",
      "    >>> filter_by_substring([], 'a')\n",
      "    []\n",
      "    >>> filter_by_substring(['abc', 'bacd', 'cde', 'array'], 'a')\n",
      "    ['abc', 'bacd', 'array']\n",
      "    \"\"\"\n",
      "\n",
      "Generated Solution:\n",
      "def filter_by_substring(strings: List[str], substring: str) -> List[str]:\n",
      "    \"\"\" Filter an input list of strings only for ones that contain given substring\n",
      "    >>> filter_by_substring([], 'a')\n",
      "    []\n",
      "    >>> filter_by_substring(['abc', 'bacd', 'cde', 'array'], 'a')\n",
      "    ['abc', 'bacd', 'array']\n",
      "    \"\"\"\n",
      "    return [s for s in strings if substring in s]\n",
      "\n",
      "\n",
      "\n"
     ]
    },
    {
     "name": "stderr",
     "output_type": "stream",
     "text": [
      "Setting `pad_token_id` to `eos_token_id`:50256 for open-end generation.\n"
     ]
    },
    {
     "name": "stdout",
     "output_type": "stream",
     "text": [
      "Prompt:\n",
      "from typing import List, Tuple\n",
      "\n",
      "\n",
      "def sum_product(numbers: List[int]) -> Tuple[int, int]:\n",
      "    \"\"\" For a given list of integers, return a tuple consisting of a sum and a product of all the integers in a list.\n",
      "    Empty sum should be equal to 0 and empty product should be equal to 1.\n",
      "    >>> sum_product([])\n",
      "    (0, 1)\n",
      "    >>> sum_product([1, 2, 3, 4])\n",
      "    (10, 24)\n",
      "    \"\"\"\n",
      "\n",
      "Generated Solution:\n",
      "def sum_product(numbers: List[int]) -> Tuple[int, int]:\n",
      "    \"\"\" For a given list of integers, return a tuple consisting of a sum and a product of all the integers in a list.\n",
      "    Empty sum should be equal to 0 and empty product should be equal to 1.\n",
      "    >>> sum_product([])\n",
      "    (0, 1)\n",
      "    >>> sum_product([1, 2, 3, 4])\n",
      "    (10, 24)\n",
      "    \"\"\"\n",
      "    if len(numbers) == 0:\n",
      "        return (0, 1)\n",
      "    else:\n",
      "        return (numbers[0], sum(numbers[1:]))\n",
      "\n",
      "\n",
      "\n"
     ]
    },
    {
     "name": "stderr",
     "output_type": "stream",
     "text": [
      "Setting `pad_token_id` to `eos_token_id`:50256 for open-end generation.\n"
     ]
    },
    {
     "name": "stdout",
     "output_type": "stream",
     "text": [
      "Prompt:\n",
      "from typing import List, Tuple\n",
      "\n",
      "\n",
      "def rolling_max(numbers: List[int]) -> List[int]:\n",
      "    \"\"\" From a given list of integers, generate a list of rolling maximum element found until given moment\n",
      "    in the sequence.\n",
      "    >>> rolling_max([1, 2, 3, 2, 3, 4, 2])\n",
      "    [1, 2, 3, 3, 3, 4, 4]\n",
      "    \"\"\"\n",
      "\n",
      "Generated Solution:\n",
      "def rolling_max(numbers: List[int]) -> List[int]:\n",
      "    \"\"\" From a given list of integers, generate a list of rolling maximum element found until given moment\n",
      "    in the sequence.\n",
      "    >>> rolling_max([1, 2, 3, 2, 3, 4, 2])\n",
      "    [1, 2, 3, 3, 3, 4, 4]\n",
      "    \"\"\"\n",
      "    max_list = []\n",
      "    for i in range(len(numbers)):\n",
      "        max_list.append(numbers[i])\n",
      "        if i == len(numbers) - 1:\n",
      "            break\n",
      "        if numbers[i] > numbers[i + 1]:\n",
      "            max_list.append(numbers[i])\n",
      "            numbers[i] = numbers[i + 1]\n",
      "            numbers[i + 1] = numbers[i]\n",
      "    return max_list\n",
      "\n",
      "\n",
      "\n"
     ]
    },
    {
     "name": "stderr",
     "output_type": "stream",
     "text": [
      "Setting `pad_token_id` to `eos_token_id`:50256 for open-end generation.\n"
     ]
    },
    {
     "name": "stdout",
     "output_type": "stream",
     "text": [
      "Prompt:\n",
      "\n",
      "\n",
      "def is_palindrome(string: str) -> bool:\n",
      "    \"\"\" Test if given string is a palindrome \"\"\"\n",
      "    return string == string[::-1]\n",
      "\n",
      "\n",
      "def make_palindrome(string: str) -> str:\n",
      "    \"\"\" Find the shortest palindrome that begins with a supplied string.\n",
      "    Algorithm idea is simple:\n",
      "    - Find the longest postfix of supplied string that is a palindrome.\n",
      "    - Append to the end of the string reverse of a string prefix that comes before the palindromic suffix.\n",
      "    >>> make_palindrome('')\n",
      "    ''\n",
      "    >>> make_palindrome('cat')\n",
      "    'catac'\n",
      "    >>> make_palindrome('cata')\n",
      "    'catac'\n",
      "    \"\"\"\n",
      "\n",
      "Generated Solution:\n",
      "def is_palindrome(string: str) -> bool:\n",
      "    \"\"\" Test if given string is a palindrome \"\"\"\n",
      "    return string == string[::-1]\n",
      "\n",
      "\n",
      "\n"
     ]
    },
    {
     "name": "stderr",
     "output_type": "stream",
     "text": [
      "Setting `pad_token_id` to `eos_token_id`:50256 for open-end generation.\n"
     ]
    },
    {
     "name": "stdout",
     "output_type": "stream",
     "text": [
      "Prompt:\n",
      "from typing import List\n",
      "\n",
      "\n",
      "def string_xor(a: str, b: str) -> str:\n",
      "    \"\"\" Input are two strings a and b consisting only of 1s and 0s.\n",
      "    Perform binary XOR on these inputs and return result also as a string.\n",
      "    >>> string_xor('010', '110')\n",
      "    '100'\n",
      "    \"\"\"\n",
      "\n",
      "Generated Solution:\n",
      "def string_xor(a: str, b: str) -> str:\n",
      "    \"\"\" Input are two strings a and b consisting only of 1s and 0s.\n",
      "    Perform binary XOR on these inputs and return result also as a string.\n",
      "    >>> string_xor('010', '110')\n",
      "    '100'\n",
      "    \"\"\"\n",
      "    return ''.join(chr(ord(a) ^ ord(b)) for a, b in zip(a, b))\n",
      "\n",
      "\n",
      "\n"
     ]
    },
    {
     "name": "stderr",
     "output_type": "stream",
     "text": [
      "Setting `pad_token_id` to `eos_token_id`:50256 for open-end generation.\n"
     ]
    },
    {
     "name": "stdout",
     "output_type": "stream",
     "text": [
      "Prompt:\n",
      "from typing import List, Optional\n",
      "\n",
      "\n",
      "def longest(strings: List[str]) -> Optional[str]:\n",
      "    \"\"\" Out of list of strings, return the longest one. Return the first one in case of multiple\n",
      "    strings of the same length. Return None in case the input list is empty.\n",
      "    >>> longest([])\n",
      "\n",
      "    >>> longest(['a', 'b', 'c'])\n",
      "    'a'\n",
      "    >>> longest(['a', 'bb', 'ccc'])\n",
      "    'ccc'\n",
      "    \"\"\"\n",
      "\n",
      "Generated Solution:\n",
      "def longest(strings: List[str]) -> Optional[str]:\n",
      "    \"\"\" Out of list of strings, return the longest one. Return the first one in case of multiple\n",
      "    strings of the same length. Return None in case the input list is empty.\n",
      "    >>> longest([])\n",
      "\n",
      "    >>> longest(['a', 'b', 'c'])\n",
      "    'a'\n",
      "    >>> longest(['a', 'bb', 'ccc'])\n",
      "    'ccc'\n",
      "    \"\"\"\n",
      "    if len(strings) == 0:\n",
      "        return None\n",
      "    if len(strings) == 1:\n",
      "        return strings[0]\n",
      "    if len(strings) == 2:\n",
      "        return strings[0] if strings[0] > strings[1] else strings[1]\n",
      "    if len(strings) == 3:\n",
      "        return strings[0] if strings[0] > strings[1] and strings[1] > strings[2] else strings[1]\n",
      "    if len(strings) == 4:\n",
      "        return strings[0] if strings[0] > strings[1] and strings[1] > strings[2] and strings[2] > strings[3] else strings[1]\n",
      "    if len(strings) == 5:\n",
      "        return strings[0] if strings[0] > strings[1] and strings[1] > strings[2] and strings[2] > strings\n",
      "\n"
     ]
    },
    {
     "name": "stderr",
     "output_type": "stream",
     "text": [
      "Setting `pad_token_id` to `eos_token_id`:50256 for open-end generation.\n"
     ]
    },
    {
     "name": "stdout",
     "output_type": "stream",
     "text": [
      "Prompt:\n",
      "\n",
      "\n",
      "def greatest_common_divisor(a: int, b: int) -> int:\n",
      "    \"\"\" Return a greatest common divisor of two integers a and b\n",
      "    >>> greatest_common_divisor(3, 5)\n",
      "    1\n",
      "    >>> greatest_common_divisor(25, 15)\n",
      "    5\n",
      "    \"\"\"\n",
      "\n",
      "Generated Solution:\n",
      "def greatest_common_divisor(a: int, b: int) -> int:\n",
      "    \"\"\" Return a greatest common divisor of two integers a and b\n",
      "    >>> greatest_common_divisor(3, 5)\n",
      "    1\n",
      "    >>> greatest_common_divisor(25, 15)\n",
      "    5\n",
      "    \"\"\"\n",
      "    if a == b:\n",
      "        return a\n",
      "    if a > b:\n",
      "        return greatest_common_divisor(a - 1, b)\n",
      "    else:\n",
      "        return greatest_common_divisor(a + 1, b)\n",
      "\n",
      "\n"
     ]
    },
    {
     "name": "stderr",
     "output_type": "stream",
     "text": [
      "Setting `pad_token_id` to `eos_token_id`:50256 for open-end generation.\n"
     ]
    },
    {
     "name": "stdout",
     "output_type": "stream",
     "text": [
      "Prompt:\n",
      "from typing import List\n",
      "\n",
      "\n",
      "def all_prefixes(string: str) -> List[str]:\n",
      "    \"\"\" Return list of all prefixes from shortest to longest of the input string\n",
      "    >>> all_prefixes('abc')\n",
      "    ['a', 'ab', 'abc']\n",
      "    \"\"\"\n",
      "\n",
      "Generated Solution:\n",
      "def all_prefixes(string: str) -> List[str]:\n",
      "    \"\"\" Return list of all prefixes from shortest to longest of the input string\n",
      "    >>> all_prefixes('abc')\n",
      "    ['a', 'ab', 'abc']\n",
      "    \"\"\"\n",
      "    prefixes = []\n",
      "    for i in range(1, len(string)):\n",
      "        prefixes.append(string[:i])\n",
      "    return prefixes\n",
      "\n",
      "\n",
      "\n"
     ]
    },
    {
     "name": "stderr",
     "output_type": "stream",
     "text": [
      "Setting `pad_token_id` to `eos_token_id`:50256 for open-end generation.\n"
     ]
    },
    {
     "name": "stdout",
     "output_type": "stream",
     "text": [
      "Prompt:\n",
      "\n",
      "\n",
      "def string_sequence(n: int) -> str:\n",
      "    \"\"\" Return a string containing space-delimited numbers starting from 0 upto n inclusive.\n",
      "    >>> string_sequence(0)\n",
      "    '0'\n",
      "    >>> string_sequence(5)\n",
      "    '0 1 2 3 4 5'\n",
      "    \"\"\"\n",
      "\n",
      "Generated Solution:\n",
      "def string_sequence(n: int) -> str:\n",
      "    \"\"\" Return a string containing space-delimited numbers starting from 0 upto n inclusive.\n",
      "    >>> string_sequence(0)\n",
      "    '0'\n",
      "    >>> string_sequence(5)\n",
      "    '0 1 2 3 4 5'\n",
      "    \"\"\"\n",
      "    return''.join(str(i) for i in range(n))\n",
      "\n",
      "\n"
     ]
    },
    {
     "name": "stderr",
     "output_type": "stream",
     "text": [
      "Setting `pad_token_id` to `eos_token_id`:50256 for open-end generation.\n"
     ]
    },
    {
     "name": "stdout",
     "output_type": "stream",
     "text": [
      "Prompt:\n",
      "\n",
      "\n",
      "def count_distinct_characters(string: str) -> int:\n",
      "    \"\"\" Given a string, find out how many distinct characters (regardless of case) does it consist of\n",
      "    >>> count_distinct_characters('xyzXYZ')\n",
      "    3\n",
      "    >>> count_distinct_characters('Jerry')\n",
      "    4\n",
      "    \"\"\"\n",
      "\n",
      "Generated Solution:\n",
      "def count_distinct_characters(string: str) -> int:\n",
      "    \"\"\" Given a string, find out how many distinct characters (regardless of case) does it consist of\n",
      "    >>> count_distinct_characters('xyzXYZ')\n",
      "    3\n",
      "    >>> count_distinct_characters('Jerry')\n",
      "    4\n",
      "    \"\"\"\n",
      "    count = 0\n",
      "    for char in string:\n",
      "        if char.isalpha():\n",
      "            count += 1\n",
      "    return count\n",
      "\n",
      "\n"
     ]
    },
    {
     "name": "stderr",
     "output_type": "stream",
     "text": [
      "Setting `pad_token_id` to `eos_token_id`:50256 for open-end generation.\n"
     ]
    },
    {
     "name": "stdout",
     "output_type": "stream",
     "text": [
      "Prompt:\n",
      "from typing import List\n",
      "\n",
      "\n",
      "def parse_music(music_string: str) -> List[int]:\n",
      "    \"\"\" Input to this function is a string representing musical notes in a special ASCII format.\n",
      "    Your task is to parse this string and return list of integers corresponding to how many beats does each\n",
      "    not last.\n",
      "\n",
      "    Here is a legend:\n",
      "    'o' - whole note, lasts four beats\n",
      "    'o|' - half note, lasts two beats\n",
      "    '.|' - quater note, lasts one beat\n",
      "\n",
      "    >>> parse_music('o o| .| o| o| .| .| .| .| o o')\n",
      "    [4, 2, 1, 2, 2, 1, 1, 1, 1, 4, 4]\n",
      "    \"\"\"\n",
      "\n",
      "Generated Solution:\n",
      "def parse_music(music_string: str) -> List[int]:\n",
      "    \"\"\" Input to this function is a string representing musical notes in a special ASCII format.\n",
      "    Your task is to parse this string and return list of integers corresponding to how many beats does each\n",
      "    not last.\n",
      "\n",
      "    Here is a legend:\n",
      "    'o' - whole note, lasts four beats\n",
      "    'o|' - half note, lasts two beats\n",
      "    '.|' - quater note, lasts one beat\n",
      "\n",
      "    >>> parse_music('o o|.| o| o|.|.|.|.| o o')\n",
      "    [4, 2, 1, 2, 2, 1, 1, 1, 1, 4, 4]\n",
      "    \"\"\"\n",
      "    # TODO: Write your code here\n",
      "    return [int(i) for i in music_string.split('|')]\n",
      "\n",
      "\n",
      "\n"
     ]
    },
    {
     "name": "stderr",
     "output_type": "stream",
     "text": [
      "Setting `pad_token_id` to `eos_token_id`:50256 for open-end generation.\n"
     ]
    },
    {
     "name": "stdout",
     "output_type": "stream",
     "text": [
      "Prompt:\n",
      "\n",
      "\n",
      "def how_many_times(string: str, substring: str) -> int:\n",
      "    \"\"\" Find how many times a given substring can be found in the original string. Count overlaping cases.\n",
      "    >>> how_many_times('', 'a')\n",
      "    0\n",
      "    >>> how_many_times('aaa', 'a')\n",
      "    3\n",
      "    >>> how_many_times('aaaa', 'aa')\n",
      "    3\n",
      "    \"\"\"\n",
      "\n",
      "Generated Solution:\n",
      "def how_many_times(string: str, substring: str) -> int:\n",
      "    \"\"\" Find how many times a given substring can be found in the original string. Count overlaping cases.\n",
      "    >>> how_many_times('', 'a')\n",
      "    0\n",
      "    >>> how_many_times('aaa', 'a')\n",
      "    3\n",
      "    >>> how_many_times('aaaa', 'aa')\n",
      "    3\n",
      "    \"\"\"\n",
      "    count = 0\n",
      "    for i in range(len(string) - len(substring) + 1):\n",
      "        if string[i:i+len(substring)] == substring:\n",
      "            count += 1\n",
      "    return count\n",
      "\n",
      "\n"
     ]
    },
    {
     "name": "stderr",
     "output_type": "stream",
     "text": [
      "Setting `pad_token_id` to `eos_token_id`:50256 for open-end generation.\n"
     ]
    },
    {
     "name": "stdout",
     "output_type": "stream",
     "text": [
      "Prompt:\n",
      "from typing import List\n",
      "\n",
      "\n",
      "def sort_numbers(numbers: str) -> str:\n",
      "    \"\"\" Input is a space-delimited string of numberals from 'zero' to 'nine'.\n",
      "    Valid choices are 'zero', 'one', 'two', 'three', 'four', 'five', 'six', 'seven', 'eight' and 'nine'.\n",
      "    Return the string with numbers sorted from smallest to largest\n",
      "    >>> sort_numbers('three one five')\n",
      "    'one three five'\n",
      "    \"\"\"\n",
      "\n",
      "Generated Solution:\n",
      "def sort_numbers(numbers: str) -> str:\n",
      "    \"\"\" Input is a space-delimited string of numberals from 'zero' to 'nine'.\n",
      "    Valid choices are 'zero', 'one', 'two', 'three', 'four', 'five','six','seven', 'eight' and 'nine'.\n",
      "    Return the string with numbers sorted from smallest to largest\n",
      "    >>> sort_numbers('three one five')\n",
      "    'one three five'\n",
      "    \"\"\"\n",
      "    # TODO: Write your code here\n",
      "    return numbers\n",
      "\n",
      "\n",
      "\n"
     ]
    },
    {
     "name": "stderr",
     "output_type": "stream",
     "text": [
      "Setting `pad_token_id` to `eos_token_id`:50256 for open-end generation.\n"
     ]
    },
    {
     "name": "stdout",
     "output_type": "stream",
     "text": [
      "Prompt:\n",
      "from typing import List, Tuple\n",
      "\n",
      "\n",
      "def find_closest_elements(numbers: List[float]) -> Tuple[float, float]:\n",
      "    \"\"\" From a supplied list of numbers (of length at least two) select and return two that are the closest to each\n",
      "    other and return them in order (smaller number, larger number).\n",
      "    >>> find_closest_elements([1.0, 2.0, 3.0, 4.0, 5.0, 2.2])\n",
      "    (2.0, 2.2)\n",
      "    >>> find_closest_elements([1.0, 2.0, 3.0, 4.0, 5.0, 2.0])\n",
      "    (2.0, 2.0)\n",
      "    \"\"\"\n",
      "\n",
      "Generated Solution:\n",
      "def find_closest_elements(numbers: List[float]) -> Tuple[float, float]:\n",
      "    \"\"\" From a supplied list of numbers (of length at least two) select and return two that are the closest to each\n",
      "    other and return them in order (smaller number, larger number).\n",
      "    >>> find_closest_elements([1.0, 2.0, 3.0, 4.0, 5.0, 2.2])\n",
      "    (2.0, 2.2)\n",
      "    >>> find_closest_elements([1.0, 2.0, 3.0, 4.0, 5.0, 2.0])\n",
      "    (2.0, 2.0)\n",
      "    \"\"\"\n",
      "    smallest_difference = float(\"inf\")\n",
      "    smallest_number = float(\"inf\")\n",
      "    for number in numbers:\n",
      "        difference = abs(number - smallest_number)\n",
      "        if difference < smallest_difference:\n",
      "            smallest_difference = difference\n",
      "            smallest_number = number\n",
      "    return smallest_number, smallest_number\n",
      "\n",
      "\n",
      "\n"
     ]
    },
    {
     "name": "stderr",
     "output_type": "stream",
     "text": [
      "Setting `pad_token_id` to `eos_token_id`:50256 for open-end generation.\n"
     ]
    },
    {
     "name": "stdout",
     "output_type": "stream",
     "text": [
      "Prompt:\n",
      "from typing import List\n",
      "\n",
      "\n",
      "def rescale_to_unit(numbers: List[float]) -> List[float]:\n",
      "    \"\"\" Given list of numbers (of at least two elements), apply a linear transform to that list,\n",
      "    such that the smallest number will become 0 and the largest will become 1\n",
      "    >>> rescale_to_unit([1.0, 2.0, 3.0, 4.0, 5.0])\n",
      "    [0.0, 0.25, 0.5, 0.75, 1.0]\n",
      "    \"\"\"\n",
      "\n",
      "Generated Solution:\n",
      "def rescale_to_unit(numbers: List[float]) -> List[float]:\n",
      "    \"\"\" Given list of numbers (of at least two elements), apply a linear transform to that list,\n",
      "    such that the smallest number will become 0 and the largest will become 1\n",
      "    >>> rescale_to_unit([1.0, 2.0, 3.0, 4.0, 5.0])\n",
      "    [0.0, 0.25, 0.5, 0.75, 1.0]\n",
      "    \"\"\"\n",
      "    return [n / (n - 1) for n in numbers]\n",
      "\n",
      "\n",
      "\n"
     ]
    },
    {
     "name": "stderr",
     "output_type": "stream",
     "text": [
      "Setting `pad_token_id` to `eos_token_id`:50256 for open-end generation.\n"
     ]
    },
    {
     "name": "stdout",
     "output_type": "stream",
     "text": [
      "Prompt:\n",
      "from typing import List, Any\n",
      "\n",
      "\n",
      "def filter_integers(values: List[Any]) -> List[int]:\n",
      "    \"\"\" Filter given list of any python values only for integers\n",
      "    >>> filter_integers(['a', 3.14, 5])\n",
      "    [5]\n",
      "    >>> filter_integers([1, 2, 3, 'abc', {}, []])\n",
      "    [1, 2, 3]\n",
      "    \"\"\"\n",
      "\n",
      "Generated Solution:\n",
      "def filter_integers(values: List[Any]) -> List[int]:\n",
      "    \"\"\" Filter given list of any python values only for integers\n",
      "    >>> filter_integers(['a', 3.14, 5])\n",
      "    [5]\n",
      "    >>> filter_integers([1, 2, 3, 'abc', {}, []])\n",
      "    [1, 2, 3]\n",
      "    \"\"\"\n",
      "    return [int(v) for v in values if isinstance(v, int)]\n",
      "\n",
      "\n",
      "\n"
     ]
    },
    {
     "name": "stderr",
     "output_type": "stream",
     "text": [
      "Setting `pad_token_id` to `eos_token_id`:50256 for open-end generation.\n"
     ]
    },
    {
     "name": "stdout",
     "output_type": "stream",
     "text": [
      "Prompt:\n",
      "\n",
      "\n",
      "def strlen(string: str) -> int:\n",
      "    \"\"\" Return length of given string\n",
      "    >>> strlen('')\n",
      "    0\n",
      "    >>> strlen('abc')\n",
      "    3\n",
      "    \"\"\"\n",
      "\n",
      "Generated Solution:\n",
      "def strlen(string: str) -> int:\n",
      "    \"\"\" Return length of given string\n",
      "    >>> strlen('')\n",
      "    0\n",
      "    >>> strlen('abc')\n",
      "    3\n",
      "    \"\"\"\n",
      "    return len(string)\n",
      "\n",
      "\n"
     ]
    },
    {
     "name": "stderr",
     "output_type": "stream",
     "text": [
      "Setting `pad_token_id` to `eos_token_id`:50256 for open-end generation.\n"
     ]
    },
    {
     "name": "stdout",
     "output_type": "stream",
     "text": [
      "Prompt:\n",
      "\n",
      "\n",
      "def largest_divisor(n: int) -> int:\n",
      "    \"\"\" For a given number n, find the largest number that divides n evenly, smaller than n\n",
      "    >>> largest_divisor(15)\n",
      "    5\n",
      "    \"\"\"\n",
      "\n",
      "Generated Solution:\n",
      "def largest_divisor(n: int) -> int:\n",
      "    \"\"\" For a given number n, find the largest number that divides n evenly, smaller than n\n",
      "    >>> largest_divisor(15)\n",
      "    5\n",
      "    \"\"\"\n",
      "    divisors = []\n",
      "    for i in range(1, n + 1):\n",
      "        if n % i == 0:\n",
      "            divisors.append(i)\n",
      "    return max(divisors)\n",
      "\n",
      "\n"
     ]
    },
    {
     "name": "stderr",
     "output_type": "stream",
     "text": [
      "Setting `pad_token_id` to `eos_token_id`:50256 for open-end generation.\n"
     ]
    },
    {
     "name": "stdout",
     "output_type": "stream",
     "text": [
      "Prompt:\n",
      "from typing import List\n",
      "\n",
      "\n",
      "def factorize(n: int) -> List[int]:\n",
      "    \"\"\" Return list of prime factors of given integer in the order from smallest to largest.\n",
      "    Each of the factors should be listed number of times corresponding to how many times it appeares in factorization.\n",
      "    Input number should be equal to the product of all factors\n",
      "    >>> factorize(8)\n",
      "    [2, 2, 2]\n",
      "    >>> factorize(25)\n",
      "    [5, 5]\n",
      "    >>> factorize(70)\n",
      "    [2, 5, 7]\n",
      "    \"\"\"\n",
      "\n",
      "Generated Solution:\n",
      "def factorize(n: int) -> List[int]:\n",
      "    \"\"\" Return list of prime factors of given integer in the order from smallest to largest.\n",
      "    Each of the factors should be listed number of times corresponding to how many times it appeares in factorization.\n",
      "    Input number should be equal to the product of all factors\n",
      "    >>> factorize(8)\n",
      "    [2, 2, 2]\n",
      "    >>> factorize(25)\n",
      "    [5, 5]\n",
      "    >>> factorize(70)\n",
      "    [2, 5, 7]\n",
      "    \"\"\"\n",
      "    if n == 1:\n",
      "        return [1]\n",
      "    elif n == 2:\n",
      "        return [2]\n",
      "    elif n % 2 == 0:\n",
      "        return factorize(n // 2) + [2]\n",
      "    else:\n",
      "        return factorize(n // 2) + factorize(n % 2)\n",
      "\n",
      "\n",
      "\n"
     ]
    },
    {
     "name": "stderr",
     "output_type": "stream",
     "text": [
      "Setting `pad_token_id` to `eos_token_id`:50256 for open-end generation.\n"
     ]
    },
    {
     "name": "stdout",
     "output_type": "stream",
     "text": [
      "Prompt:\n",
      "from typing import List\n",
      "\n",
      "\n",
      "def remove_duplicates(numbers: List[int]) -> List[int]:\n",
      "    \"\"\" From a list of integers, remove all elements that occur more than once.\n",
      "    Keep order of elements left the same as in the input.\n",
      "    >>> remove_duplicates([1, 2, 3, 2, 4])\n",
      "    [1, 3, 4]\n",
      "    \"\"\"\n",
      "\n",
      "Generated Solution:\n",
      "def remove_duplicates(numbers: List[int]) -> List[int]:\n",
      "    \"\"\" From a list of integers, remove all elements that occur more than once.\n",
      "    Keep order of elements left the same as in the input.\n",
      "    >>> remove_duplicates([1, 2, 3, 2, 4])\n",
      "    [1, 3, 4]\n",
      "    \"\"\"\n",
      "    # TODO: Write your code here\n",
      "    # TODO: Remove duplicates from the list\n",
      "    # TODO: Return the list\n",
      "    # TODO: Remove duplicates from the list\n",
      "    # TODO: Return the list\n",
      "    # TODO: Remove duplicates from the list\n",
      "    # TODO: Return the list\n",
      "    # TODO: Remove duplicates from the list\n",
      "    # TODO: Return the list\n",
      "    # TODO: Remove duplicates from the list\n",
      "    # TODO: Return the list\n",
      "    # TODO: Remove duplicates from the list\n",
      "    # TODO: Return the list\n",
      "    # TODO: Remove duplicates from the list\n",
      "    # TODO: Return the list\n",
      "    # TODO: Remove duplicates from the list\n",
      "    # TODO: Return the list\n",
      "    # TODO: Remove duplicates from the list\n",
      "    # TODO: Return the list\n",
      "    \n",
      "\n"
     ]
    },
    {
     "name": "stderr",
     "output_type": "stream",
     "text": [
      "Setting `pad_token_id` to `eos_token_id`:50256 for open-end generation.\n"
     ]
    },
    {
     "name": "stdout",
     "output_type": "stream",
     "text": [
      "Prompt:\n",
      "\n",
      "\n",
      "def flip_case(string: str) -> str:\n",
      "    \"\"\" For a given string, flip lowercase characters to uppercase and uppercase to lowercase.\n",
      "    >>> flip_case('Hello')\n",
      "    'hELLO'\n",
      "    \"\"\"\n",
      "\n",
      "Generated Solution:\n",
      "def flip_case(string: str) -> str:\n",
      "    \"\"\" For a given string, flip lowercase characters to uppercase and uppercase to lowercase.\n",
      "    >>> flip_case('Hello')\n",
      "    'hELLO'\n",
      "    \"\"\"\n",
      "    return string.lower() + string.upper()\n",
      "\n",
      "\n"
     ]
    },
    {
     "name": "stderr",
     "output_type": "stream",
     "text": [
      "Setting `pad_token_id` to `eos_token_id`:50256 for open-end generation.\n"
     ]
    },
    {
     "name": "stdout",
     "output_type": "stream",
     "text": [
      "Prompt:\n",
      "from typing import List\n",
      "\n",
      "\n",
      "def concatenate(strings: List[str]) -> str:\n",
      "    \"\"\" Concatenate list of strings into a single string\n",
      "    >>> concatenate([])\n",
      "    ''\n",
      "    >>> concatenate(['a', 'b', 'c'])\n",
      "    'abc'\n",
      "    \"\"\"\n",
      "\n",
      "Generated Solution:\n",
      "def concatenate(strings: List[str]) -> str:\n",
      "    \"\"\" Concatenate list of strings into a single string\n",
      "    >>> concatenate([])\n",
      "    ''\n",
      "    >>> concatenate(['a', 'b', 'c'])\n",
      "    'abc'\n",
      "    \"\"\"\n",
      "    return ''.join(strings)\n",
      "\n",
      "\n",
      "\n"
     ]
    },
    {
     "name": "stderr",
     "output_type": "stream",
     "text": [
      "Setting `pad_token_id` to `eos_token_id`:50256 for open-end generation.\n"
     ]
    },
    {
     "name": "stdout",
     "output_type": "stream",
     "text": [
      "Prompt:\n",
      "from typing import List\n",
      "\n",
      "\n",
      "def filter_by_prefix(strings: List[str], prefix: str) -> List[str]:\n",
      "    \"\"\" Filter an input list of strings only for ones that start with a given prefix.\n",
      "    >>> filter_by_prefix([], 'a')\n",
      "    []\n",
      "    >>> filter_by_prefix(['abc', 'bcd', 'cde', 'array'], 'a')\n",
      "    ['abc', 'array']\n",
      "    \"\"\"\n",
      "\n",
      "Generated Solution:\n",
      "def filter_by_prefix(strings: List[str], prefix: str) -> List[str]:\n",
      "    \"\"\" Filter an input list of strings only for ones that start with a given prefix.\n",
      "    >>> filter_by_prefix([], 'a')\n",
      "    []\n",
      "    >>> filter_by_prefix(['abc', 'bcd', 'cde', 'array'], 'a')\n",
      "    ['abc', 'array']\n",
      "    \"\"\"\n",
      "    return [s for s in strings if s.startswith(prefix)]\n",
      "\n",
      "\n",
      "\n"
     ]
    },
    {
     "name": "stderr",
     "output_type": "stream",
     "text": [
      "Setting `pad_token_id` to `eos_token_id`:50256 for open-end generation.\n"
     ]
    },
    {
     "name": "stdout",
     "output_type": "stream",
     "text": [
      "Prompt:\n",
      "\n",
      "\n",
      "def get_positive(l: list):\n",
      "    \"\"\"Return only positive numbers in the list.\n",
      "    >>> get_positive([-1, 2, -4, 5, 6])\n",
      "    [2, 5, 6]\n",
      "    >>> get_positive([5, 3, -5, 2, -3, 3, 9, 0, 123, 1, -10])\n",
      "    [5, 3, 2, 3, 9, 123, 1]\n",
      "    \"\"\"\n",
      "\n",
      "Generated Solution:\n",
      "def get_positive(l: list):\n",
      "    \"\"\"Return only positive numbers in the list.\n",
      "    >>> get_positive([-1, 2, -4, 5, 6])\n",
      "    [2, 5, 6]\n",
      "    >>> get_positive([5, 3, -5, 2, -3, 3, 9, 0, 123, 1, -10])\n",
      "    [5, 3, 2, 3, 9, 123, 1]\n",
      "    \"\"\"\n",
      "    return [num for num in l if num > 0]\n",
      "\n",
      "\n"
     ]
    },
    {
     "name": "stderr",
     "output_type": "stream",
     "text": [
      "Setting `pad_token_id` to `eos_token_id`:50256 for open-end generation.\n"
     ]
    },
    {
     "name": "stdout",
     "output_type": "stream",
     "text": [
      "Prompt:\n",
      "\n",
      "\n",
      "def is_prime(n):\n",
      "    \"\"\"Return true if a given number is prime, and false otherwise.\n",
      "    >>> is_prime(6)\n",
      "    False\n",
      "    >>> is_prime(101)\n",
      "    True\n",
      "    >>> is_prime(11)\n",
      "    True\n",
      "    >>> is_prime(13441)\n",
      "    True\n",
      "    >>> is_prime(61)\n",
      "    True\n",
      "    >>> is_prime(4)\n",
      "    False\n",
      "    >>> is_prime(1)\n",
      "    False\n",
      "    \"\"\"\n",
      "\n",
      "Generated Solution:\n",
      "def is_prime(n):\n",
      "    \"\"\"Return true if a given number is prime, and false otherwise.\n",
      "    >>> is_prime(6)\n",
      "    False\n",
      "    >>> is_prime(101)\n",
      "    True\n",
      "    >>> is_prime(11)\n",
      "    True\n",
      "    >>> is_prime(13441)\n",
      "    True\n",
      "    >>> is_prime(61)\n",
      "    True\n",
      "    >>> is_prime(4)\n",
      "    False\n",
      "    >>> is_prime(1)\n",
      "    False\n",
      "    \"\"\"\n",
      "    if n == 2 or n == 3:\n",
      "        return True\n",
      "    if n % 2 == 0 or n % 3 == 0:\n",
      "        return False\n",
      "    for i in range(5, int(math.sqrt(n)) + 1, 6):\n",
      "        if n % i == 0 or n % (i + 2) == 0:\n",
      "            return False\n",
      "    return True\n",
      "\n",
      "\n"
     ]
    },
    {
     "name": "stderr",
     "output_type": "stream",
     "text": [
      "Setting `pad_token_id` to `eos_token_id`:50256 for open-end generation.\n"
     ]
    },
    {
     "name": "stdout",
     "output_type": "stream",
     "text": [
      "Prompt:\n",
      "import math\n",
      "\n",
      "\n",
      "def poly(xs: list, x: float):\n",
      "    \"\"\"\n",
      "    Evaluates polynomial with coefficients xs at point x.\n",
      "    return xs[0] + xs[1] * x + xs[1] * x^2 + .... xs[n] * x^n\n",
      "    \"\"\"\n",
      "    return sum([coeff * math.pow(x, i) for i, coeff in enumerate(xs)])\n",
      "\n",
      "\n",
      "def find_zero(xs: list):\n",
      "    \"\"\" xs are coefficients of a polynomial.\n",
      "    find_zero find x such that poly(x) = 0.\n",
      "    find_zero returns only only zero point, even if there are many.\n",
      "    Moreover, find_zero only takes list xs having even number of coefficients\n",
      "    and largest non zero coefficient as it guarantees\n",
      "    a solution.\n",
      "    >>> round(find_zero([1, 2]), 2) # f(x) = 1 + 2x\n",
      "    -0.5\n",
      "    >>> round(find_zero([-6, 11, -6, 1]), 2) # (x - 1) * (x - 2) * (x - 3) = -6 + 11x - 6x^2 + x^3\n",
      "    1.0\n",
      "    \"\"\"\n",
      "\n",
      "Generated Solution:\n",
      "def poly(xs: list, x: float):\n",
      "    \"\"\"\n",
      "    Evaluates polynomial with coefficients xs at point x.\n",
      "    return xs[0] + xs[1] * x + xs[1] * x^2 +.... xs[n] * x^n\n",
      "    \"\"\"\n",
      "    return sum([coeff * math.pow(x, i) for i, coeff in enumerate(xs)])\n",
      "\n",
      "\n",
      "\n"
     ]
    },
    {
     "name": "stderr",
     "output_type": "stream",
     "text": [
      "Setting `pad_token_id` to `eos_token_id`:50256 for open-end generation.\n"
     ]
    },
    {
     "name": "stdout",
     "output_type": "stream",
     "text": [
      "Prompt:\n",
      "\n",
      "\n",
      "def sort_third(l: list):\n",
      "    \"\"\"This function takes a list l and returns a list l' such that\n",
      "    l' is identical to l in the indicies that are not divisible by three, while its values at the indicies that are divisible by three are equal\n",
      "    to the values of the corresponding indicies of l, but sorted.\n",
      "    >>> sort_third([1, 2, 3])\n",
      "    [1, 2, 3]\n",
      "    >>> sort_third([5, 6, 3, 4, 8, 9, 2])\n",
      "    [2, 6, 3, 4, 8, 9, 5]\n",
      "    \"\"\"\n",
      "\n",
      "Generated Solution:\n",
      "def sort_third(l: list):\n",
      "    \"\"\"This function takes a list l and returns a list l' such that\n",
      "    l' is identical to l in the indicies that are not divisible by three, while its values at the indicies that are divisible by three are equal\n",
      "    to the values of the corresponding indicies of l, but sorted.\n",
      "    >>> sort_third([1, 2, 3])\n",
      "    [1, 2, 3]\n",
      "    >>> sort_third([5, 6, 3, 4, 8, 9, 2])\n",
      "    [2, 6, 3, 4, 8, 9, 5]\n",
      "    \"\"\"\n",
      "    l_copy = l.copy()\n",
      "    for i in range(len(l_copy)):\n",
      "        if l_copy[i] % 3 == 0:\n",
      "            l_copy[i] = l_copy[i] // 3\n",
      "    return l_copy\n",
      "\n",
      "\n"
     ]
    },
    {
     "name": "stderr",
     "output_type": "stream",
     "text": [
      "Setting `pad_token_id` to `eos_token_id`:50256 for open-end generation.\n"
     ]
    },
    {
     "name": "stdout",
     "output_type": "stream",
     "text": [
      "Prompt:\n",
      "\n",
      "\n",
      "def unique(l: list):\n",
      "    \"\"\"Return sorted unique elements in a list\n",
      "    >>> unique([5, 3, 5, 2, 3, 3, 9, 0, 123])\n",
      "    [0, 2, 3, 5, 9, 123]\n",
      "    \"\"\"\n",
      "\n",
      "Generated Solution:\n",
      "def unique(l: list):\n",
      "    \"\"\"Return sorted unique elements in a list\n",
      "    >>> unique([5, 3, 5, 2, 3, 3, 9, 0, 123])\n",
      "    [0, 2, 3, 5, 9, 123]\n",
      "    \"\"\"\n",
      "    return list(set(l))\n",
      "\n",
      "\n"
     ]
    },
    {
     "name": "stderr",
     "output_type": "stream",
     "text": [
      "Setting `pad_token_id` to `eos_token_id`:50256 for open-end generation.\n"
     ]
    },
    {
     "name": "stdout",
     "output_type": "stream",
     "text": [
      "Prompt:\n",
      "\n",
      "\n",
      "def max_element(l: list):\n",
      "    \"\"\"Return maximum element in the list.\n",
      "    >>> max_element([1, 2, 3])\n",
      "    3\n",
      "    >>> max_element([5, 3, -5, 2, -3, 3, 9, 0, 123, 1, -10])\n",
      "    123\n",
      "    \"\"\"\n",
      "\n",
      "Generated Solution:\n",
      "def max_element(l: list):\n",
      "    \"\"\"Return maximum element in the list.\n",
      "    >>> max_element([1, 2, 3])\n",
      "    3\n",
      "    >>> max_element([5, 3, -5, 2, -3, 3, 9, 0, 123, 1, -10])\n",
      "    123\n",
      "    \"\"\"\n",
      "    return max(l)\n",
      "\n",
      "\n"
     ]
    },
    {
     "name": "stderr",
     "output_type": "stream",
     "text": [
      "Setting `pad_token_id` to `eos_token_id`:50256 for open-end generation.\n"
     ]
    },
    {
     "name": "stdout",
     "output_type": "stream",
     "text": [
      "Prompt:\n",
      "\n",
      "\n",
      "def fizz_buzz(n: int):\n",
      "    \"\"\"Return the number of times the digit 7 appears in integers less than n which are divisible by 11 or 13.\n",
      "    >>> fizz_buzz(50)\n",
      "    0\n",
      "    >>> fizz_buzz(78)\n",
      "    2\n",
      "    >>> fizz_buzz(79)\n",
      "    3\n",
      "    \"\"\"\n",
      "\n",
      "Generated Solution:\n",
      "def fizz_buzz(n: int):\n",
      "    \"\"\"Return the number of times the digit 7 appears in integers less than n which are divisible by 11 or 13.\n",
      "    >>> fizz_buzz(50)\n",
      "    0\n",
      "    >>> fizz_buzz(78)\n",
      "    2\n",
      "    >>> fizz_buzz(79)\n",
      "    3\n",
      "    \"\"\"\n",
      "    if n % 11 == 0:\n",
      "        return 0\n",
      "    elif n % 13 == 0:\n",
      "        return 1\n",
      "    else:\n",
      "        return fizz_buzz(n // 10) + fizz_buzz(n % 10)\n",
      "\n",
      "\n",
      "\n"
     ]
    },
    {
     "name": "stderr",
     "output_type": "stream",
     "text": [
      "Setting `pad_token_id` to `eos_token_id`:50256 for open-end generation.\n"
     ]
    },
    {
     "name": "stdout",
     "output_type": "stream",
     "text": [
      "Prompt:\n",
      "\n",
      "\n",
      "def sort_even(l: list):\n",
      "    \"\"\"This function takes a list l and returns a list l' such that\n",
      "    l' is identical to l in the odd indicies, while its values at the even indicies are equal\n",
      "    to the values of the even indicies of l, but sorted.\n",
      "    >>> sort_even([1, 2, 3])\n",
      "    [1, 2, 3]\n",
      "    >>> sort_even([5, 6, 3, 4])\n",
      "    [3, 6, 5, 4]\n",
      "    \"\"\"\n",
      "\n",
      "Generated Solution:\n",
      "def sort_even(l: list):\n",
      "    \"\"\"This function takes a list l and returns a list l' such that\n",
      "    l' is identical to l in the odd indicies, while its values at the even indicies are equal\n",
      "    to the values of the even indicies of l, but sorted.\n",
      "    >>> sort_even([1, 2, 3])\n",
      "    [1, 2, 3]\n",
      "    >>> sort_even([5, 6, 3, 4])\n",
      "    [3, 6, 5, 4]\n",
      "    \"\"\"\n",
      "    even_indices = []\n",
      "    odd_indices = []\n",
      "    for i in range(len(l)):\n",
      "        if i % 2 == 0:\n",
      "            even_indices.append(l[i])\n",
      "        else:\n",
      "            odd_indices.append(l[i])\n",
      "    return even_indices + odd_indices\n",
      "\n",
      "\n"
     ]
    },
    {
     "name": "stderr",
     "output_type": "stream",
     "text": [
      "Setting `pad_token_id` to `eos_token_id`:50256 for open-end generation.\n"
     ]
    },
    {
     "name": "stdout",
     "output_type": "stream",
     "text": [
      "Prompt:\n",
      "\n",
      "\n",
      "def encode_cyclic(s: str):\n",
      "    \"\"\"\n",
      "    returns encoded string by cycling groups of three characters.\n",
      "    \"\"\"\n",
      "    # split string to groups. Each of length 3.\n",
      "    groups = [s[(3 * i):min((3 * i + 3), len(s))] for i in range((len(s) + 2) // 3)]\n",
      "    # cycle elements in each group. Unless group has fewer elements than 3.\n",
      "    groups = [(group[1:] + group[0]) if len(group) == 3 else group for group in groups]\n",
      "    return \"\".join(groups)\n",
      "\n",
      "\n",
      "def decode_cyclic(s: str):\n",
      "    \"\"\"\n",
      "    takes as input string encoded with encode_cyclic function. Returns decoded string.\n",
      "    \"\"\"\n",
      "\n",
      "Generated Solution:\n",
      "def encode_cyclic(s: str):\n",
      "    \"\"\"\n",
      "    returns encoded string by cycling groups of three characters.\n",
      "    \"\"\"\n",
      "    # split string to groups. Each of length 3.\n",
      "    groups = [s[(3 * i):min((3 * i + 3), len(s))] for i in range((len(s) + 2) // 3)]\n",
      "    # cycle elements in each group. Unless group has fewer elements than 3.\n",
      "    groups = [(group[1:] + group[0]) if len(group) == 3 else group for group in groups]\n",
      "    return \"\".join(groups)\n",
      "\n",
      "\n",
      "\n"
     ]
    },
    {
     "name": "stderr",
     "output_type": "stream",
     "text": [
      "Setting `pad_token_id` to `eos_token_id`:50256 for open-end generation.\n"
     ]
    }
   ],
   "source": [
    "# Step 5: Generate code solutions\n",
    "# repeat this to include how much time to run this : change timing over here to run for longer. \n",
    "print(\"Generating code solutions...\")\n",
    "run_duration=3600\n",
    "prompts = [sample[\"prompt\"] for sample in combined_dataset]\n",
    "generated_solutions = []\n",
    "\n",
    "start_time = time.time()\n",
    "current_time=0\n",
    "\n",
    "while current_time < run_duration:\n",
    "    for prompt in prompts:\n",
    "        current_time = time.time() - start_time\n",
    "        if current_time >= run_duration:\n",
    "            break\n",
    "        solution = generate_code(prompt, model, tokenizer, device)\n",
    "        generated_solutions.append(solution)\n",
    "        print(f\"Prompt:\\n{prompt}\")\n",
    "        print(f\"Generated Solution:\\n{solution}\\n\")\n",
    "\n",
    "print(f\"Completed processing. Generated solutions for {len(generated_solutions)} prompts in {run_duration} seconds.\")\n"
   ]
  },
  {
   "cell_type": "code",
   "execution_count": null,
   "id": "2606363d-bfec-4ced-a760-4248f30b8427",
   "metadata": {},
   "outputs": [],
   "source": []
  }
 ],
 "metadata": {
  "kernelspec": {
   "display_name": "Python 3.9",
   "language": "python",
   "name": "python3"
  },
  "language_info": {
   "codemirror_mode": {
    "name": "ipython",
    "version": 3
   },
   "file_extension": ".py",
   "mimetype": "text/x-python",
   "name": "python",
   "nbconvert_exporter": "python",
   "pygments_lexer": "ipython3",
   "version": "3.9.18"
  }
 },
 "nbformat": 4,
 "nbformat_minor": 5
}
